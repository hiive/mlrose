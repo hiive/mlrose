{
 "cells": [
  {
   "cell_type": "markdown",
   "metadata": {},
   "source": [
    "# Parallelize mlrose randomized optimizations\n",
    "Faster experimentation using the new parallel script.\n",
    "*Tutorial by Nikhil Kapila*"
   ]
  },
  {
   "cell_type": "code",
   "execution_count": 1,
   "metadata": {},
   "outputs": [],
   "source": [
    "import mlrose_ky as mlrose\n",
    "from mlrose_ky.utils import parallel\n",
    "import numpy as np\n",
    "import time\n",
    "from pprint import pprint"
   ]
  },
  {
   "cell_type": "markdown",
   "metadata": {},
   "source": [
    "# Creating the parameter grid\n",
    "In this section, we initialize all the different parameters required by our algorithms. \n",
    "We use an example of Four Peaks for this notebook to explain the parallelized *FASTER* runs."
   ]
  },
  {
   "cell_type": "code",
   "execution_count": 2,
   "metadata": {},
   "outputs": [],
   "source": [
    "# We use 3 seeds\n",
    "seeds = [1, 2, 3]\n",
    "\n",
    "# for Four Peaks problem\n",
    "t_pct = 0.05\n",
    "\n",
    "# for all algorithms\n",
    "max_attempt = [10, 25, 50]\n",
    "max_iter = [5000]\n",
    "\n",
    "# RHC \n",
    "restart = [1, 2, 5, 10, 15, 25, 50, 100]\n",
    "\n",
    "# pop_size for GA and MIMIC\n",
    "# mutation_prob for GA\n",
    "# keep_pct for MIMIC\n",
    "pop_size = [50, 100, 200, 400, 800]\n",
    "mutation_prob = [0.05, 0.1, 0.2, 0.3, 0.4]\n",
    "keep_pct = [0.1, 0.2, 0.3, 0.4]\n",
    "\n",
    "# decays for SA, you can pick the other types too --> refer docs\n",
    "decays = []\n",
    "for t in [1, 2, 5]:\n",
    "    for decay in [0.0001, 0.00025, 0.0005]:\n",
    "        decays.append(mlrose.ArithDecay(init_temp=t, decay=decay, min_temp=0.001))"
   ]
  },
  {
   "cell_type": "markdown",
   "metadata": {},
   "source": [
    "# RHC\n",
    "We use a single sized RHC, pass in all our previous parameters, and generate the output results.\n",
    "`view_params` displays how your input parameters are expanded into all possible combinations of their values, generating a full set of parameter permutations."
   ]
  },
  {
   "cell_type": "markdown",
   "metadata": {},
   "source": [
    "## With `view_params` as `False`"
   ]
  },
  {
   "cell_type": "code",
   "execution_count": 3,
   "metadata": {},
   "outputs": [
    {
     "name": "stdout",
     "output_type": "stream",
     "text": [
      "fourpeaks of size: 20\n",
      "rhc\n",
      "Number of params: 24\n"
     ]
    },
    {
     "name": "stderr",
     "output_type": "stream",
     "text": [
      "[Parallel(n_jobs=-1)]: Using backend LokyBackend with 8 concurrent workers.\n",
      "[Parallel(n_jobs=-1)]: Done  24 out of  24 | elapsed:    3.8s finished\n"
     ]
    }
   ],
   "source": [
    "for size in [20]: #, 60, 100]:\n",
    "    print(\"fourpeaks of size:\", size)\n",
    "    problem = mlrose.DiscreteOpt(\n",
    "        length=size, fitness_fn=mlrose.FourPeaks(t_pct=t_pct), maximize=True\n",
    "    )\n",
    "    problem.set_mimic_fast_mode(fast_mode=True)\n",
    "\n",
    "    # Hyperparameter tunning section\n",
    "    print(\"rhc\")\n",
    "    rhc_grid = {\n",
    "        \"problem\": [problem],\n",
    "        \"max_attempt\": max_attempt,\n",
    "        \"max_iter\": max_iter,\n",
    "        \"restart\": restart,\n",
    "        \"seeds\": [seeds],\n",
    "    }\n",
    "\n",
    "    rhc_results = parallel.get_results(rhc_grid, parallel.rhc_run, verbose=True, view_params=False)"
   ]
  },
  {
   "cell_type": "markdown",
   "metadata": {},
   "source": [
    "## With `view_params` as `True`\n",
    "You can see how the different combinations come out."
   ]
  },
  {
   "cell_type": "code",
   "execution_count": 4,
   "metadata": {},
   "outputs": [
    {
     "name": "stderr",
     "output_type": "stream",
     "text": [
      "[Parallel(n_jobs=-1)]: Using backend LokyBackend with 8 concurrent workers.\n"
     ]
    },
    {
     "name": "stdout",
     "output_type": "stream",
     "text": [
      "fourpeaks of size: 20\n",
      "rhc\n",
      "[{'max_attempt': 10,\n",
      "  'max_iter': 5000,\n",
      "  'problem': <mlrose_ky.opt_probs.discrete_opt.DiscreteOpt object at 0x11cf53a70>,\n",
      "  'restart': 1,\n",
      "  'seeds': [1, 2, 3]},\n",
      " {'max_attempt': 10,\n",
      "  'max_iter': 5000,\n",
      "  'problem': <mlrose_ky.opt_probs.discrete_opt.DiscreteOpt object at 0x11cf53a70>,\n",
      "  'restart': 2,\n",
      "  'seeds': [1, 2, 3]},\n",
      " {'max_attempt': 10,\n",
      "  'max_iter': 5000,\n",
      "  'problem': <mlrose_ky.opt_probs.discrete_opt.DiscreteOpt object at 0x11cf53a70>,\n",
      "  'restart': 5,\n",
      "  'seeds': [1, 2, 3]},\n",
      " {'max_attempt': 10,\n",
      "  'max_iter': 5000,\n",
      "  'problem': <mlrose_ky.opt_probs.discrete_opt.DiscreteOpt object at 0x11cf53a70>,\n",
      "  'restart': 10,\n",
      "  'seeds': [1, 2, 3]},\n",
      " {'max_attempt': 10,\n",
      "  'max_iter': 5000,\n",
      "  'problem': <mlrose_ky.opt_probs.discrete_opt.DiscreteOpt object at 0x11cf53a70>,\n",
      "  'restart': 15,\n",
      "  'seeds': [1, 2, 3]},\n",
      " {'max_attempt': 10,\n",
      "  'max_iter': 5000,\n",
      "  'problem': <mlrose_ky.opt_probs.discrete_opt.DiscreteOpt object at 0x11cf53a70>,\n",
      "  'restart': 25,\n",
      "  'seeds': [1, 2, 3]},\n",
      " {'max_attempt': 10,\n",
      "  'max_iter': 5000,\n",
      "  'problem': <mlrose_ky.opt_probs.discrete_opt.DiscreteOpt object at 0x11cf53a70>,\n",
      "  'restart': 50,\n",
      "  'seeds': [1, 2, 3]},\n",
      " {'max_attempt': 10,\n",
      "  'max_iter': 5000,\n",
      "  'problem': <mlrose_ky.opt_probs.discrete_opt.DiscreteOpt object at 0x11cf53a70>,\n",
      "  'restart': 100,\n",
      "  'seeds': [1, 2, 3]},\n",
      " {'max_attempt': 25,\n",
      "  'max_iter': 5000,\n",
      "  'problem': <mlrose_ky.opt_probs.discrete_opt.DiscreteOpt object at 0x11cf53a70>,\n",
      "  'restart': 1,\n",
      "  'seeds': [1, 2, 3]},\n",
      " {'max_attempt': 25,\n",
      "  'max_iter': 5000,\n",
      "  'problem': <mlrose_ky.opt_probs.discrete_opt.DiscreteOpt object at 0x11cf53a70>,\n",
      "  'restart': 2,\n",
      "  'seeds': [1, 2, 3]},\n",
      " {'max_attempt': 25,\n",
      "  'max_iter': 5000,\n",
      "  'problem': <mlrose_ky.opt_probs.discrete_opt.DiscreteOpt object at 0x11cf53a70>,\n",
      "  'restart': 5,\n",
      "  'seeds': [1, 2, 3]},\n",
      " {'max_attempt': 25,\n",
      "  'max_iter': 5000,\n",
      "  'problem': <mlrose_ky.opt_probs.discrete_opt.DiscreteOpt object at 0x11cf53a70>,\n",
      "  'restart': 10,\n",
      "  'seeds': [1, 2, 3]},\n",
      " {'max_attempt': 25,\n",
      "  'max_iter': 5000,\n",
      "  'problem': <mlrose_ky.opt_probs.discrete_opt.DiscreteOpt object at 0x11cf53a70>,\n",
      "  'restart': 15,\n",
      "  'seeds': [1, 2, 3]},\n",
      " {'max_attempt': 25,\n",
      "  'max_iter': 5000,\n",
      "  'problem': <mlrose_ky.opt_probs.discrete_opt.DiscreteOpt object at 0x11cf53a70>,\n",
      "  'restart': 25,\n",
      "  'seeds': [1, 2, 3]},\n",
      " {'max_attempt': 25,\n",
      "  'max_iter': 5000,\n",
      "  'problem': <mlrose_ky.opt_probs.discrete_opt.DiscreteOpt object at 0x11cf53a70>,\n",
      "  'restart': 50,\n",
      "  'seeds': [1, 2, 3]},\n",
      " {'max_attempt': 25,\n",
      "  'max_iter': 5000,\n",
      "  'problem': <mlrose_ky.opt_probs.discrete_opt.DiscreteOpt object at 0x11cf53a70>,\n",
      "  'restart': 100,\n",
      "  'seeds': [1, 2, 3]},\n",
      " {'max_attempt': 50,\n",
      "  'max_iter': 5000,\n",
      "  'problem': <mlrose_ky.opt_probs.discrete_opt.DiscreteOpt object at 0x11cf53a70>,\n",
      "  'restart': 1,\n",
      "  'seeds': [1, 2, 3]},\n",
      " {'max_attempt': 50,\n",
      "  'max_iter': 5000,\n",
      "  'problem': <mlrose_ky.opt_probs.discrete_opt.DiscreteOpt object at 0x11cf53a70>,\n",
      "  'restart': 2,\n",
      "  'seeds': [1, 2, 3]},\n",
      " {'max_attempt': 50,\n",
      "  'max_iter': 5000,\n",
      "  'problem': <mlrose_ky.opt_probs.discrete_opt.DiscreteOpt object at 0x11cf53a70>,\n",
      "  'restart': 5,\n",
      "  'seeds': [1, 2, 3]},\n",
      " {'max_attempt': 50,\n",
      "  'max_iter': 5000,\n",
      "  'problem': <mlrose_ky.opt_probs.discrete_opt.DiscreteOpt object at 0x11cf53a70>,\n",
      "  'restart': 10,\n",
      "  'seeds': [1, 2, 3]},\n",
      " {'max_attempt': 50,\n",
      "  'max_iter': 5000,\n",
      "  'problem': <mlrose_ky.opt_probs.discrete_opt.DiscreteOpt object at 0x11cf53a70>,\n",
      "  'restart': 15,\n",
      "  'seeds': [1, 2, 3]},\n",
      " {'max_attempt': 50,\n",
      "  'max_iter': 5000,\n",
      "  'problem': <mlrose_ky.opt_probs.discrete_opt.DiscreteOpt object at 0x11cf53a70>,\n",
      "  'restart': 25,\n",
      "  'seeds': [1, 2, 3]},\n",
      " {'max_attempt': 50,\n",
      "  'max_iter': 5000,\n",
      "  'problem': <mlrose_ky.opt_probs.discrete_opt.DiscreteOpt object at 0x11cf53a70>,\n",
      "  'restart': 50,\n",
      "  'seeds': [1, 2, 3]},\n",
      " {'max_attempt': 50,\n",
      "  'max_iter': 5000,\n",
      "  'problem': <mlrose_ky.opt_probs.discrete_opt.DiscreteOpt object at 0x11cf53a70>,\n",
      "  'restart': 100,\n",
      "  'seeds': [1, 2, 3]}]\n",
      "Number of params: 24\n"
     ]
    },
    {
     "name": "stderr",
     "output_type": "stream",
     "text": [
      "[Parallel(n_jobs=-1)]: Done  24 out of  24 | elapsed:    0.9s finished\n"
     ]
    }
   ],
   "source": [
    "for size in [20]: #, 60, 100]:\n",
    "    print(\"fourpeaks of size:\", size)\n",
    "    problem = mlrose.DiscreteOpt(\n",
    "        length=size, fitness_fn=mlrose.FourPeaks(t_pct=t_pct), maximize=True\n",
    "    )\n",
    "    problem.set_mimic_fast_mode(fast_mode=True)\n",
    "\n",
    "    # Hyperparameter tunning section\n",
    "    print(\"rhc\")\n",
    "    rhc_grid = {\n",
    "        \"problem\": [problem],\n",
    "        \"max_attempt\": max_attempt,\n",
    "        \"max_iter\": max_iter,\n",
    "        \"restart\": restart,\n",
    "        \"seeds\": [seeds],\n",
    "    }\n",
    "\n",
    "    rhc_results = parallel.get_results(rhc_grid, parallel.rhc_run, verbose=True, view_params=True)"
   ]
  },
  {
   "cell_type": "markdown",
   "metadata": {},
   "source": [
    "# Understanding the output\n",
    "The output is a list of DataFrames, we had 24 different combinations and hence, there are 24 different output dataframes wherein each row in each output refers to a specific seed."
   ]
  },
  {
   "cell_type": "code",
   "execution_count": 5,
   "metadata": {},
   "outputs": [
    {
     "data": {
      "text/plain": [
       "24"
      ]
     },
     "execution_count": 5,
     "metadata": {},
     "output_type": "execute_result"
    }
   ],
   "source": [
    "len(rhc_results)"
   ]
  },
  {
   "cell_type": "markdown",
   "metadata": {},
   "source": [
    "Looking at the first dataframe, we can see our hyperparams of `Restart`=1 and the time taken per seed."
   ]
  },
  {
   "cell_type": "code",
   "execution_count": 6,
   "metadata": {},
   "outputs": [
    {
     "data": {
      "text/html": [
       "<div>\n",
       "<style scoped>\n",
       "    .dataframe tbody tr th:only-of-type {\n",
       "        vertical-align: middle;\n",
       "    }\n",
       "\n",
       "    .dataframe tbody tr th {\n",
       "        vertical-align: top;\n",
       "    }\n",
       "\n",
       "    .dataframe thead th {\n",
       "        text-align: right;\n",
       "    }\n",
       "</style>\n",
       "<table border=\"1\" class=\"dataframe\">\n",
       "  <thead>\n",
       "    <tr style=\"text-align: right;\">\n",
       "      <th></th>\n",
       "      <th>Seed</th>\n",
       "      <th>Best State</th>\n",
       "      <th>Best Fitness</th>\n",
       "      <th>Fitness Value</th>\n",
       "      <th>Fevals</th>\n",
       "      <th>Max Attempt</th>\n",
       "      <th>Max Iters</th>\n",
       "      <th>Restart</th>\n",
       "      <th>Problem</th>\n",
       "      <th>Time</th>\n",
       "    </tr>\n",
       "  </thead>\n",
       "  <tbody>\n",
       "    <tr>\n",
       "      <th>0</th>\n",
       "      <td>1</td>\n",
       "      <td>[1, 1, 1, 1, 1, 1, 1, 1, 1, 0, 0, 0, 1, 1, 1, ...</td>\n",
       "      <td>29.0</td>\n",
       "      <td>[4.0, 4.0, 4.0, 4.0, 4.0, 4.0, 4.0, 5.0, 8.0, ...</td>\n",
       "      <td>[18.0, 19.0, 20.0, 21.0, 22.0, 23.0, 24.0, 26....</td>\n",
       "      <td>10</td>\n",
       "      <td>5000</td>\n",
       "      <td>1</td>\n",
       "      <td>&lt;mlrose_ky.opt_probs.discrete_opt.DiscreteOpt ...</td>\n",
       "      <td>0.002735</td>\n",
       "    </tr>\n",
       "    <tr>\n",
       "      <th>1</th>\n",
       "      <td>2</td>\n",
       "      <td>[0, 0, 0, 1, 1, 1, 1, 0, 0, 0, 0, 1, 0, 1, 0, ...</td>\n",
       "      <td>6.0</td>\n",
       "      <td>[6.0, 6.0, 6.0, 6.0, 6.0, 6.0, 6.0, 6.0, 6.0, ...</td>\n",
       "      <td>[25.0, 26.0, 27.0, 28.0, 29.0, 30.0, 31.0, 32....</td>\n",
       "      <td>10</td>\n",
       "      <td>5000</td>\n",
       "      <td>1</td>\n",
       "      <td>&lt;mlrose_ky.opt_probs.discrete_opt.DiscreteOpt ...</td>\n",
       "      <td>0.002735</td>\n",
       "    </tr>\n",
       "    <tr>\n",
       "      <th>2</th>\n",
       "      <td>3</td>\n",
       "      <td>[1, 1, 1, 0, 0, 0, 1, 0, 0, 0, 0, 1, 0, 1, 1, ...</td>\n",
       "      <td>3.0</td>\n",
       "      <td>[0.0, 0.0, 0.0, 0.0, 0.0, 0.0, 0.0, 0.0, 0.0, ...</td>\n",
       "      <td>[1.0, 2.0, 3.0, 4.0, 5.0, 6.0, 7.0, 8.0, 9.0, ...</td>\n",
       "      <td>10</td>\n",
       "      <td>5000</td>\n",
       "      <td>1</td>\n",
       "      <td>&lt;mlrose_ky.opt_probs.discrete_opt.DiscreteOpt ...</td>\n",
       "      <td>0.002735</td>\n",
       "    </tr>\n",
       "  </tbody>\n",
       "</table>\n",
       "</div>"
      ],
      "text/plain": [
       "   Seed                                         Best State  Best Fitness  \\\n",
       "0     1  [1, 1, 1, 1, 1, 1, 1, 1, 1, 0, 0, 0, 1, 1, 1, ...          29.0   \n",
       "1     2  [0, 0, 0, 1, 1, 1, 1, 0, 0, 0, 0, 1, 0, 1, 0, ...           6.0   \n",
       "2     3  [1, 1, 1, 0, 0, 0, 1, 0, 0, 0, 0, 1, 0, 1, 1, ...           3.0   \n",
       "\n",
       "                                       Fitness Value  \\\n",
       "0  [4.0, 4.0, 4.0, 4.0, 4.0, 4.0, 4.0, 5.0, 8.0, ...   \n",
       "1  [6.0, 6.0, 6.0, 6.0, 6.0, 6.0, 6.0, 6.0, 6.0, ...   \n",
       "2  [0.0, 0.0, 0.0, 0.0, 0.0, 0.0, 0.0, 0.0, 0.0, ...   \n",
       "\n",
       "                                              Fevals  Max Attempt  Max Iters  \\\n",
       "0  [18.0, 19.0, 20.0, 21.0, 22.0, 23.0, 24.0, 26....           10       5000   \n",
       "1  [25.0, 26.0, 27.0, 28.0, 29.0, 30.0, 31.0, 32....           10       5000   \n",
       "2  [1.0, 2.0, 3.0, 4.0, 5.0, 6.0, 7.0, 8.0, 9.0, ...           10       5000   \n",
       "\n",
       "   Restart                                            Problem      Time  \n",
       "0        1  <mlrose_ky.opt_probs.discrete_opt.DiscreteOpt ...  0.002735  \n",
       "1        1  <mlrose_ky.opt_probs.discrete_opt.DiscreteOpt ...  0.002735  \n",
       "2        1  <mlrose_ky.opt_probs.discrete_opt.DiscreteOpt ...  0.002735  "
      ]
     },
     "execution_count": 6,
     "metadata": {},
     "output_type": "execute_result"
    }
   ],
   "source": [
    "rhc_results[0]"
   ]
  },
  {
   "cell_type": "markdown",
   "metadata": {},
   "source": [
    "To access fitness value of `Restart`=1 for `Seed`=1, we can do the following."
   ]
  },
  {
   "cell_type": "code",
   "execution_count": 7,
   "metadata": {},
   "outputs": [
    {
     "data": {
      "text/plain": [
       "[4.0,\n",
       " 4.0,\n",
       " 4.0,\n",
       " 4.0,\n",
       " 4.0,\n",
       " 4.0,\n",
       " 4.0,\n",
       " 5.0,\n",
       " 8.0,\n",
       " 28.0,\n",
       " 28.0,\n",
       " 29.0,\n",
       " 29.0,\n",
       " 29.0,\n",
       " 29.0,\n",
       " 29.0,\n",
       " 29.0,\n",
       " 29.0,\n",
       " 29.0,\n",
       " 29.0,\n",
       " 29.0,\n",
       " 29.0]"
      ]
     },
     "execution_count": 7,
     "metadata": {},
     "output_type": "execute_result"
    }
   ],
   "source": [
    "rhc_results[1].loc[0, 'Fitness Value']\n",
    "# or rhc_results[1]['Fitness Value'][0]\n",
    "# view more ways here: https://pandas.pydata.org/docs/reference/api/pandas.Series.html"
   ]
  },
  {
   "cell_type": "markdown",
   "metadata": {},
   "source": [
    "# Similarly, for SA"
   ]
  },
  {
   "cell_type": "code",
   "execution_count": 8,
   "metadata": {},
   "outputs": [
    {
     "name": "stderr",
     "output_type": "stream",
     "text": [
      "[Parallel(n_jobs=-1)]: Using backend LokyBackend with 8 concurrent workers.\n"
     ]
    },
    {
     "name": "stdout",
     "output_type": "stream",
     "text": [
      "Number of params: 27\n"
     ]
    },
    {
     "name": "stderr",
     "output_type": "stream",
     "text": [
      "[Parallel(n_jobs=-1)]: Done  27 out of  27 | elapsed:    1.2s finished\n"
     ]
    }
   ],
   "source": [
    "sa_grid = {\n",
    "    \"problem\": [problem],\n",
    "    \"max_attempt\": max_attempt,\n",
    "    \"max_iter\": max_iter,\n",
    "    \"decay\": decays,\n",
    "    \"seeds\": [seeds],\n",
    "}\n",
    "sa_results = parallel.get_results(sa_grid, parallel.sa_run, verbose=True, view_params=False)"
   ]
  },
  {
   "cell_type": "code",
   "execution_count": 9,
   "metadata": {},
   "outputs": [
    {
     "data": {
      "text/html": [
       "<div>\n",
       "<style scoped>\n",
       "    .dataframe tbody tr th:only-of-type {\n",
       "        vertical-align: middle;\n",
       "    }\n",
       "\n",
       "    .dataframe tbody tr th {\n",
       "        vertical-align: top;\n",
       "    }\n",
       "\n",
       "    .dataframe thead th {\n",
       "        text-align: right;\n",
       "    }\n",
       "</style>\n",
       "<table border=\"1\" class=\"dataframe\">\n",
       "  <thead>\n",
       "    <tr style=\"text-align: right;\">\n",
       "      <th></th>\n",
       "      <th>Seed</th>\n",
       "      <th>Best State</th>\n",
       "      <th>Best Fitness</th>\n",
       "      <th>Fitness Value</th>\n",
       "      <th>Fevals</th>\n",
       "      <th>Max Attempt</th>\n",
       "      <th>Max Iters</th>\n",
       "      <th>Decay</th>\n",
       "      <th>Problem</th>\n",
       "      <th>Time</th>\n",
       "    </tr>\n",
       "  </thead>\n",
       "  <tbody>\n",
       "    <tr>\n",
       "      <th>0</th>\n",
       "      <td>1</td>\n",
       "      <td>[1, 1, 1, 1, 1, 1, 1, 1, 1, 1, 1, 0, 1, 0, 0, ...</td>\n",
       "      <td>31.0</td>\n",
       "      <td>[22.0, 22.0, 22.0, 22.0, 22.0, 22.0, 22.0, 26....</td>\n",
       "      <td>[2.0, 4.0, 6.0, 8.0, 9.0, 11.0, 12.0, 14.0, 16...</td>\n",
       "      <td>10</td>\n",
       "      <td>5000</td>\n",
       "      <td>ArithDecay(init_temp=1, decay=0.0001, min_temp...</td>\n",
       "      <td>&lt;mlrose_ky.opt_probs.discrete_opt.DiscreteOpt ...</td>\n",
       "      <td>0.132708</td>\n",
       "    </tr>\n",
       "    <tr>\n",
       "      <th>1</th>\n",
       "      <td>2</td>\n",
       "      <td>[1, 1, 0, 1, 0, 1, 0, 0, 0, 0, 0, 0, 0, 0, 0, ...</td>\n",
       "      <td>34.0</td>\n",
       "      <td>[2.0, 2.0, 2.0, 2.0, 2.0, 2.0, 0.0, 0.0, 0.0, ...</td>\n",
       "      <td>[2.0, 4.0, 6.0, 8.0, 10.0, 12.0, 14.0, 16.0, 1...</td>\n",
       "      <td>10</td>\n",
       "      <td>5000</td>\n",
       "      <td>ArithDecay(init_temp=1, decay=0.0001, min_temp...</td>\n",
       "      <td>&lt;mlrose_ky.opt_probs.discrete_opt.DiscreteOpt ...</td>\n",
       "      <td>0.132708</td>\n",
       "    </tr>\n",
       "    <tr>\n",
       "      <th>2</th>\n",
       "      <td>3</td>\n",
       "      <td>[1, 1, 1, 1, 1, 1, 1, 1, 1, 1, 1, 1, 1, 1, 1, ...</td>\n",
       "      <td>36.0</td>\n",
       "      <td>[3.0, 3.0, 2.0, 2.0, 2.0, 2.0, 2.0, 2.0, 2.0, ...</td>\n",
       "      <td>[2.0, 4.0, 6.0, 8.0, 10.0, 12.0, 14.0, 16.0, 1...</td>\n",
       "      <td>10</td>\n",
       "      <td>5000</td>\n",
       "      <td>ArithDecay(init_temp=1, decay=0.0001, min_temp...</td>\n",
       "      <td>&lt;mlrose_ky.opt_probs.discrete_opt.DiscreteOpt ...</td>\n",
       "      <td>0.132708</td>\n",
       "    </tr>\n",
       "  </tbody>\n",
       "</table>\n",
       "</div>"
      ],
      "text/plain": [
       "   Seed                                         Best State  Best Fitness  \\\n",
       "0     1  [1, 1, 1, 1, 1, 1, 1, 1, 1, 1, 1, 0, 1, 0, 0, ...          31.0   \n",
       "1     2  [1, 1, 0, 1, 0, 1, 0, 0, 0, 0, 0, 0, 0, 0, 0, ...          34.0   \n",
       "2     3  [1, 1, 1, 1, 1, 1, 1, 1, 1, 1, 1, 1, 1, 1, 1, ...          36.0   \n",
       "\n",
       "                                       Fitness Value  \\\n",
       "0  [22.0, 22.0, 22.0, 22.0, 22.0, 22.0, 22.0, 26....   \n",
       "1  [2.0, 2.0, 2.0, 2.0, 2.0, 2.0, 0.0, 0.0, 0.0, ...   \n",
       "2  [3.0, 3.0, 2.0, 2.0, 2.0, 2.0, 2.0, 2.0, 2.0, ...   \n",
       "\n",
       "                                              Fevals  Max Attempt  Max Iters  \\\n",
       "0  [2.0, 4.0, 6.0, 8.0, 9.0, 11.0, 12.0, 14.0, 16...           10       5000   \n",
       "1  [2.0, 4.0, 6.0, 8.0, 10.0, 12.0, 14.0, 16.0, 1...           10       5000   \n",
       "2  [2.0, 4.0, 6.0, 8.0, 10.0, 12.0, 14.0, 16.0, 1...           10       5000   \n",
       "\n",
       "                                               Decay  \\\n",
       "0  ArithDecay(init_temp=1, decay=0.0001, min_temp...   \n",
       "1  ArithDecay(init_temp=1, decay=0.0001, min_temp...   \n",
       "2  ArithDecay(init_temp=1, decay=0.0001, min_temp...   \n",
       "\n",
       "                                             Problem      Time  \n",
       "0  <mlrose_ky.opt_probs.discrete_opt.DiscreteOpt ...  0.132708  \n",
       "1  <mlrose_ky.opt_probs.discrete_opt.DiscreteOpt ...  0.132708  \n",
       "2  <mlrose_ky.opt_probs.discrete_opt.DiscreteOpt ...  0.132708  "
      ]
     },
     "execution_count": 9,
     "metadata": {},
     "output_type": "execute_result"
    }
   ],
   "source": [
    "sa_results[0]"
   ]
  },
  {
   "cell_type": "markdown",
   "metadata": {},
   "source": [
    "# GA"
   ]
  },
  {
   "cell_type": "code",
   "execution_count": 10,
   "metadata": {},
   "outputs": [
    {
     "name": "stderr",
     "output_type": "stream",
     "text": [
      "[Parallel(n_jobs=-1)]: Using backend LokyBackend with 8 concurrent workers.\n"
     ]
    },
    {
     "name": "stdout",
     "output_type": "stream",
     "text": [
      "Number of params: 75\n"
     ]
    },
    {
     "name": "stderr",
     "output_type": "stream",
     "text": [
      "[Parallel(n_jobs=-1)]: Done  52 tasks      | elapsed:    9.1s\n",
      "[Parallel(n_jobs=-1)]: Done  60 out of  75 | elapsed:   11.0s remaining:    2.8s\n",
      "[Parallel(n_jobs=-1)]: Done  75 out of  75 | elapsed:   20.6s finished\n"
     ]
    }
   ],
   "source": [
    "ga_grid = {\n",
    "    \"problem\": [problem],\n",
    "    \"pop_size\": pop_size,\n",
    "    \"mutation_prob\": mutation_prob,\n",
    "    \"max_attempt\": max_attempt,\n",
    "    \"max_iter\": max_iter,\n",
    "    \"seeds\": [seeds],\n",
    "}\n",
    "ga_results = parallel.get_results(ga_grid, parallel.ga_run, verbose=True)"
   ]
  },
  {
   "cell_type": "code",
   "execution_count": 11,
   "metadata": {},
   "outputs": [
    {
     "data": {
      "text/html": [
       "<div>\n",
       "<style scoped>\n",
       "    .dataframe tbody tr th:only-of-type {\n",
       "        vertical-align: middle;\n",
       "    }\n",
       "\n",
       "    .dataframe tbody tr th {\n",
       "        vertical-align: top;\n",
       "    }\n",
       "\n",
       "    .dataframe thead th {\n",
       "        text-align: right;\n",
       "    }\n",
       "</style>\n",
       "<table border=\"1\" class=\"dataframe\">\n",
       "  <thead>\n",
       "    <tr style=\"text-align: right;\">\n",
       "      <th></th>\n",
       "      <th>Seed</th>\n",
       "      <th>Best State</th>\n",
       "      <th>Best Fitness</th>\n",
       "      <th>Fitness Value</th>\n",
       "      <th>Fevals</th>\n",
       "      <th>Max Attempt</th>\n",
       "      <th>Max Iters</th>\n",
       "      <th>Pop Size</th>\n",
       "      <th>Mutation Prob</th>\n",
       "      <th>Problem</th>\n",
       "      <th>Time</th>\n",
       "    </tr>\n",
       "  </thead>\n",
       "  <tbody>\n",
       "    <tr>\n",
       "      <th>0</th>\n",
       "      <td>1</td>\n",
       "      <td>[1, 1, 0, 0, 0, 0, 0, 0, 0, 0, 0, 0, 0, 0, 0, ...</td>\n",
       "      <td>38.0</td>\n",
       "      <td>[27.0, 27.0, 27.0, 27.0, 28.0, 29.0, 29.0, 29....</td>\n",
       "      <td>[102.0, 153.0, 204.0, 255.0, 307.0, 359.0, 410...</td>\n",
       "      <td>10</td>\n",
       "      <td>5000</td>\n",
       "      <td>50</td>\n",
       "      <td>0.05</td>\n",
       "      <td>&lt;mlrose_ky.opt_probs.discrete_opt.DiscreteOpt ...</td>\n",
       "      <td>0.162858</td>\n",
       "    </tr>\n",
       "    <tr>\n",
       "      <th>1</th>\n",
       "      <td>2</td>\n",
       "      <td>[1, 1, 1, 1, 1, 1, 1, 1, 1, 1, 1, 1, 1, 1, 1, ...</td>\n",
       "      <td>37.0</td>\n",
       "      <td>[26.0, 27.0, 27.0, 28.0, 28.0, 30.0, 30.0, 33....</td>\n",
       "      <td>[102.0, 154.0, 205.0, 257.0, 308.0, 360.0, 411...</td>\n",
       "      <td>10</td>\n",
       "      <td>5000</td>\n",
       "      <td>50</td>\n",
       "      <td>0.05</td>\n",
       "      <td>&lt;mlrose_ky.opt_probs.discrete_opt.DiscreteOpt ...</td>\n",
       "      <td>0.162858</td>\n",
       "    </tr>\n",
       "    <tr>\n",
       "      <th>2</th>\n",
       "      <td>3</td>\n",
       "      <td>[1, 1, 0, 0, 0, 0, 0, 0, 0, 0, 0, 0, 0, 0, 0, ...</td>\n",
       "      <td>38.0</td>\n",
       "      <td>[28.0, 29.0, 31.0, 31.0, 33.0, 34.0, 34.0, 34....</td>\n",
       "      <td>[102.0, 154.0, 206.0, 257.0, 309.0, 361.0, 412...</td>\n",
       "      <td>10</td>\n",
       "      <td>5000</td>\n",
       "      <td>50</td>\n",
       "      <td>0.05</td>\n",
       "      <td>&lt;mlrose_ky.opt_probs.discrete_opt.DiscreteOpt ...</td>\n",
       "      <td>0.162858</td>\n",
       "    </tr>\n",
       "  </tbody>\n",
       "</table>\n",
       "</div>"
      ],
      "text/plain": [
       "   Seed                                         Best State  Best Fitness  \\\n",
       "0     1  [1, 1, 0, 0, 0, 0, 0, 0, 0, 0, 0, 0, 0, 0, 0, ...          38.0   \n",
       "1     2  [1, 1, 1, 1, 1, 1, 1, 1, 1, 1, 1, 1, 1, 1, 1, ...          37.0   \n",
       "2     3  [1, 1, 0, 0, 0, 0, 0, 0, 0, 0, 0, 0, 0, 0, 0, ...          38.0   \n",
       "\n",
       "                                       Fitness Value  \\\n",
       "0  [27.0, 27.0, 27.0, 27.0, 28.0, 29.0, 29.0, 29....   \n",
       "1  [26.0, 27.0, 27.0, 28.0, 28.0, 30.0, 30.0, 33....   \n",
       "2  [28.0, 29.0, 31.0, 31.0, 33.0, 34.0, 34.0, 34....   \n",
       "\n",
       "                                              Fevals  Max Attempt  Max Iters  \\\n",
       "0  [102.0, 153.0, 204.0, 255.0, 307.0, 359.0, 410...           10       5000   \n",
       "1  [102.0, 154.0, 205.0, 257.0, 308.0, 360.0, 411...           10       5000   \n",
       "2  [102.0, 154.0, 206.0, 257.0, 309.0, 361.0, 412...           10       5000   \n",
       "\n",
       "   Pop Size  Mutation Prob                                            Problem  \\\n",
       "0        50           0.05  <mlrose_ky.opt_probs.discrete_opt.DiscreteOpt ...   \n",
       "1        50           0.05  <mlrose_ky.opt_probs.discrete_opt.DiscreteOpt ...   \n",
       "2        50           0.05  <mlrose_ky.opt_probs.discrete_opt.DiscreteOpt ...   \n",
       "\n",
       "       Time  \n",
       "0  0.162858  \n",
       "1  0.162858  \n",
       "2  0.162858  "
      ]
     },
     "execution_count": 11,
     "metadata": {},
     "output_type": "execute_result"
    }
   ],
   "source": [
    "ga_results[0]"
   ]
  },
  {
   "cell_type": "markdown",
   "metadata": {},
   "source": [
    "# MIMIC"
   ]
  },
  {
   "cell_type": "code",
   "execution_count": 12,
   "metadata": {},
   "outputs": [
    {
     "name": "stderr",
     "output_type": "stream",
     "text": [
      "[Parallel(n_jobs=-1)]: Using backend LokyBackend with 8 concurrent workers.\n"
     ]
    },
    {
     "name": "stdout",
     "output_type": "stream",
     "text": [
      "Number of params: 60\n"
     ]
    },
    {
     "name": "stderr",
     "output_type": "stream",
     "text": [
      "[Parallel(n_jobs=-1)]: Done  34 tasks      | elapsed:    2.6s\n",
      "[Parallel(n_jobs=-1)]: Done  60 out of  60 | elapsed:    9.4s finished\n"
     ]
    }
   ],
   "source": [
    "mimic_grid = {\n",
    "    \"problem\": [problem],\n",
    "    \"pop_size\": pop_size,\n",
    "    \"keep_pct\": keep_pct,\n",
    "    \"max_attempt\": max_attempt,\n",
    "    \"max_iter\": max_iter,\n",
    "    \"seeds\": [seeds],\n",
    "}\n",
    "\n",
    "mimic_results = parallel.get_results(mimic_grid, parallel.mimic_run, verbose=True)"
   ]
  },
  {
   "cell_type": "code",
   "execution_count": 13,
   "metadata": {},
   "outputs": [
    {
     "data": {
      "text/html": [
       "<div>\n",
       "<style scoped>\n",
       "    .dataframe tbody tr th:only-of-type {\n",
       "        vertical-align: middle;\n",
       "    }\n",
       "\n",
       "    .dataframe tbody tr th {\n",
       "        vertical-align: top;\n",
       "    }\n",
       "\n",
       "    .dataframe thead th {\n",
       "        text-align: right;\n",
       "    }\n",
       "</style>\n",
       "<table border=\"1\" class=\"dataframe\">\n",
       "  <thead>\n",
       "    <tr style=\"text-align: right;\">\n",
       "      <th></th>\n",
       "      <th>Seed</th>\n",
       "      <th>Best State</th>\n",
       "      <th>Best Fitness</th>\n",
       "      <th>Fitness Value</th>\n",
       "      <th>Fevals</th>\n",
       "      <th>Max Attempt</th>\n",
       "      <th>Max Iters</th>\n",
       "      <th>Pop Size</th>\n",
       "      <th>Keep Pct</th>\n",
       "      <th>Problem</th>\n",
       "      <th>Time</th>\n",
       "    </tr>\n",
       "  </thead>\n",
       "  <tbody>\n",
       "    <tr>\n",
       "      <th>0</th>\n",
       "      <td>1</td>\n",
       "      <td>[1, 1, 1, 0, 0, 0, 0, 0, 0, 1, 1, 0, 1, 0, 1, ...</td>\n",
       "      <td>25.0</td>\n",
       "      <td>[25.0, 25.0, 25.0, 25.0, 25.0, 25.0, 25.0, 25....</td>\n",
       "      <td>[102.0, 153.0, 204.0, 255.0, 306.0, 357.0, 408...</td>\n",
       "      <td>10</td>\n",
       "      <td>5000</td>\n",
       "      <td>50</td>\n",
       "      <td>0.1</td>\n",
       "      <td>&lt;mlrose_ky.opt_probs.discrete_opt.DiscreteOpt ...</td>\n",
       "      <td>0.295165</td>\n",
       "    </tr>\n",
       "    <tr>\n",
       "      <th>1</th>\n",
       "      <td>2</td>\n",
       "      <td>[1, 1, 1, 1, 1, 0, 0, 1, 0, 1, 1, 0, 0, 0, 0, ...</td>\n",
       "      <td>29.0</td>\n",
       "      <td>[27.0, 29.0, 29.0, 29.0, 29.0, 29.0, 29.0, 29....</td>\n",
       "      <td>[102.0, 154.0, 205.0, 256.0, 307.0, 358.0, 409...</td>\n",
       "      <td>10</td>\n",
       "      <td>5000</td>\n",
       "      <td>50</td>\n",
       "      <td>0.1</td>\n",
       "      <td>&lt;mlrose_ky.opt_probs.discrete_opt.DiscreteOpt ...</td>\n",
       "      <td>0.295165</td>\n",
       "    </tr>\n",
       "    <tr>\n",
       "      <th>2</th>\n",
       "      <td>3</td>\n",
       "      <td>[1, 1, 1, 0, 1, 0, 0, 1, 0, 0, 0, 0, 0, 1, 0, ...</td>\n",
       "      <td>26.0</td>\n",
       "      <td>[26.0, 26.0, 26.0, 26.0, 26.0, 26.0, 26.0, 26....</td>\n",
       "      <td>[102.0, 153.0, 204.0, 255.0, 306.0, 357.0, 408...</td>\n",
       "      <td>10</td>\n",
       "      <td>5000</td>\n",
       "      <td>50</td>\n",
       "      <td>0.1</td>\n",
       "      <td>&lt;mlrose_ky.opt_probs.discrete_opt.DiscreteOpt ...</td>\n",
       "      <td>0.295165</td>\n",
       "    </tr>\n",
       "  </tbody>\n",
       "</table>\n",
       "</div>"
      ],
      "text/plain": [
       "   Seed                                         Best State  Best Fitness  \\\n",
       "0     1  [1, 1, 1, 0, 0, 0, 0, 0, 0, 1, 1, 0, 1, 0, 1, ...          25.0   \n",
       "1     2  [1, 1, 1, 1, 1, 0, 0, 1, 0, 1, 1, 0, 0, 0, 0, ...          29.0   \n",
       "2     3  [1, 1, 1, 0, 1, 0, 0, 1, 0, 0, 0, 0, 0, 1, 0, ...          26.0   \n",
       "\n",
       "                                       Fitness Value  \\\n",
       "0  [25.0, 25.0, 25.0, 25.0, 25.0, 25.0, 25.0, 25....   \n",
       "1  [27.0, 29.0, 29.0, 29.0, 29.0, 29.0, 29.0, 29....   \n",
       "2  [26.0, 26.0, 26.0, 26.0, 26.0, 26.0, 26.0, 26....   \n",
       "\n",
       "                                              Fevals  Max Attempt  Max Iters  \\\n",
       "0  [102.0, 153.0, 204.0, 255.0, 306.0, 357.0, 408...           10       5000   \n",
       "1  [102.0, 154.0, 205.0, 256.0, 307.0, 358.0, 409...           10       5000   \n",
       "2  [102.0, 153.0, 204.0, 255.0, 306.0, 357.0, 408...           10       5000   \n",
       "\n",
       "   Pop Size  Keep Pct                                            Problem  \\\n",
       "0        50       0.1  <mlrose_ky.opt_probs.discrete_opt.DiscreteOpt ...   \n",
       "1        50       0.1  <mlrose_ky.opt_probs.discrete_opt.DiscreteOpt ...   \n",
       "2        50       0.1  <mlrose_ky.opt_probs.discrete_opt.DiscreteOpt ...   \n",
       "\n",
       "       Time  \n",
       "0  0.295165  \n",
       "1  0.295165  \n",
       "2  0.295165  "
      ]
     },
     "execution_count": 13,
     "metadata": {},
     "output_type": "execute_result"
    }
   ],
   "source": [
    "mimic_results[0]"
   ]
  }
 ],
 "metadata": {
  "kernelspec": {
   "display_name": ".venv",
   "language": "python",
   "name": "python3"
  },
  "language_info": {
   "codemirror_mode": {
    "name": "ipython",
    "version": 3
   },
   "file_extension": ".py",
   "mimetype": "text/x-python",
   "name": "python",
   "nbconvert_exporter": "python",
   "pygments_lexer": "ipython3",
   "version": "3.12.8"
  }
 },
 "nbformat": 4,
 "nbformat_minor": 2
}
